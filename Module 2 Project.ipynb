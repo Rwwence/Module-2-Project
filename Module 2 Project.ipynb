{
 "cells": [
  {
   "cell_type": "markdown",
   "metadata": {},
   "source": [
    "# My Jupiter Notebook"
   ]
  },
  {
   "cell_type": "markdown",
   "metadata": {},
   "source": [
    "**Robert W. <br>Environmental Scientist (Data Analyst)**"
   ]
  },
  {
   "cell_type": "markdown",
   "metadata": {},
   "source": [
    "*I am interested in data analysis to not only further my career in my current role, but also to provide new opportunities in the future in different roles.*"
   ]
  },
  {
   "cell_type": "markdown",
   "metadata": {},
   "source": [
    "### The following code prints a value based off of assigned variables"
   ]
  },
  {
   "cell_type": "code",
   "execution_count": 7,
   "metadata": {},
   "outputs": [
    {
     "name": "stdout",
     "output_type": "stream",
     "text": [
      "12\n"
     ]
    }
   ],
   "source": [
    "favorite_number = 5\n",
    "y = favorite_number + 7\n",
    "print(y)"
   ]
  },
  {
   "cell_type": "markdown",
   "metadata": {},
   "source": [
    "\n",
    "\n",
    "- The following information was covered in this module:\n",
    "    - A Data Scientist's Toolkit\n",
    "    - Open Soruce Tools\n",
    "    - IBM Tools for Data Science\n",
    "  \n",
    "\n",
    "Week |Material Covered\n",
    "-----|-----\n",
    "Week 1|Data Scientist's Toolkit\n",
    "Week 2|Open Source Tools\n",
    "Week 3|IBM Tools for Data Science\n",
    "Week 4|Final Assignment\n",
    "\n",
    "Here is a link to [the course](https://www.coursera.org/)"
   ]
  },
  {
   "cell_type": "code",
   "execution_count": null,
   "metadata": {},
   "outputs": [],
   "source": []
  }
 ],
 "metadata": {
  "kernelspec": {
   "display_name": "Python 3",
   "language": "python",
   "name": "python3"
  },
  "language_info": {
   "codemirror_mode": {
    "name": "ipython",
    "version": 3
   },
   "file_extension": ".py",
   "mimetype": "text/x-python",
   "name": "python",
   "nbconvert_exporter": "python",
   "pygments_lexer": "ipython3",
   "version": "3.7.6"
  }
 },
 "nbformat": 4,
 "nbformat_minor": 4
}
